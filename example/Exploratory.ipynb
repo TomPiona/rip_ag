{
 "cells": [
  {
   "cell_type": "code",
   "execution_count": 2,
   "metadata": {},
   "outputs": [],
   "source": [
    "import pandas as pd\n",
    "import matplotlib.pyplot as plt\n",
    "import numpy as np\n",
    "%matplotlib inline"
   ]
  },
  {
   "cell_type": "code",
   "execution_count": 13,
   "metadata": {},
   "outputs": [
    {
     "data": {
      "text/plain": [
       "'Now, using the code cell below, plot United Kingdom economic growth in estimated GDP per capita since 1700. And, using the code below that, plot United States economic growth in estimated GDP per capita since 1790 What would you say the key dividing points in the past several centuries economic growth have been for both countries? What key breakpoints do they share? What key breakpoints are confined to one or the other alone? After running your code and looking at your graphs, double-click on this markdown cell and write your answer below:\\n\\n\\n\\n&nbsp;\\n\\n\\n\\n<font color=\"blue\">ANSWER: </font>\\n\\n\\n\\nkey breakpoints for the UK:\\n\\n- steady growth from 1700-1920 ish\\n\\n- a small fall from 1910-120 and then exponential increase\\n\\n- minor falls in 1940s and around 2005\\n\\n\\n\\nkey breakpoints for the US:\\n\\n- steady increase until about 1930ish and then a fall til 1940 followed by exponential growth\\n\\n- another small fall in 1949 followed by exponential increase until about 2005\\n\\n\\n\\nsimilarities\\n\\n- interesting to see how closely the two paths follow each other, the major falls occured during times of Great Depression and the modern Recession and periods of growth followed the the industrial revolution'"
      ]
     },
     "execution_count": 13,
     "metadata": {},
     "output_type": "execute_result"
    }
   ],
   "source": [
    "t['free response 4'][3]"
   ]
  },
  {
   "cell_type": "code",
   "execution_count": 3,
   "metadata": {},
   "outputs": [
    {
     "data": {
      "text/html": [
       "<div>\n",
       "<table border=\"1\" class=\"dataframe\">\n",
       "  <thead>\n",
       "    <tr style=\"text-align: right;\">\n",
       "      <th></th>\n",
       "      <th>email</th>\n",
       "      <th>1</th>\n",
       "      <th>2</th>\n",
       "      <th>3</th>\n",
       "      <th>4</th>\n",
       "      <th>5</th>\n",
       "      <th>Total Score</th>\n",
       "      <th>Out of</th>\n",
       "      <th>free response 1</th>\n",
       "      <th>free response 2</th>\n",
       "      <th>free response 3</th>\n",
       "      <th>free response 4</th>\n",
       "      <th>free response 5</th>\n",
       "    </tr>\n",
       "  </thead>\n",
       "  <tbody>\n",
       "    <tr>\n",
       "      <th>0</th>\n",
       "      <td>aaprea@berkeley.edu</td>\n",
       "      <td>1</td>\n",
       "      <td>1</td>\n",
       "      <td>1</td>\n",
       "      <td>1</td>\n",
       "      <td>0</td>\n",
       "      <td>4</td>\n",
       "      <td>5</td>\n",
       "      <td>**(Task B) Savings and Investment**\\n\\n\\n\\n_Wo...</td>\n",
       "      <td>**(Task C) Escape from the Malthusian Trap**\\n...</td>\n",
       "      <td>**(Task E) Savings and Investment**\\n\\n\\n\\n_Su...</td>\n",
       "      <td>Now, using the code cell below, plot United Ki...</td>\n",
       "      <td>**(Task H) Malthusian Economies**\\n\\n\\n\\nBelow...</td>\n",
       "    </tr>\n",
       "    <tr>\n",
       "      <th>1</th>\n",
       "      <td>akcan.balkir@berkeley.edu</td>\n",
       "      <td>1</td>\n",
       "      <td>1</td>\n",
       "      <td>1</td>\n",
       "      <td>1</td>\n",
       "      <td>0</td>\n",
       "      <td>4</td>\n",
       "      <td>5</td>\n",
       "      <td>**(Task B) Savings and Investment**\\n\\n\\n\\n_Wo...</td>\n",
       "      <td>**(Task C) Escape from the Malthusian Trap**\\n...</td>\n",
       "      <td>**(Task E) Savings and Investment**\\n\\n\\n\\n_Su...</td>\n",
       "      <td>Now, using the code cell below, plot United Ki...</td>\n",
       "      <td>**(Task H) Malthusian Economies**\\n\\n\\n\\nBelow...</td>\n",
       "    </tr>\n",
       "    <tr>\n",
       "      <th>2</th>\n",
       "      <td>alberthsiung@berkeley.edu</td>\n",
       "      <td>1</td>\n",
       "      <td>0</td>\n",
       "      <td>1</td>\n",
       "      <td>1</td>\n",
       "      <td>0</td>\n",
       "      <td>3</td>\n",
       "      <td>5</td>\n",
       "      <td>**(Task B) Savings and Investment**\\n\\n\\n\\n_Wo...</td>\n",
       "      <td>**(Task C) Escape from the Malthusian Trap**\\n...</td>\n",
       "      <td>**(Task E) Savings and Investment**\\n\\n\\n\\n_Su...</td>\n",
       "      <td>Now, using the code cell below, plot United Ki...</td>\n",
       "      <td>**(Task H) Malthusian Economies**\\n\\n\\n\\nBelow...</td>\n",
       "    </tr>\n",
       "    <tr>\n",
       "      <th>3</th>\n",
       "      <td>alekyamallina@berkeley.edu</td>\n",
       "      <td>0</td>\n",
       "      <td>0</td>\n",
       "      <td>1</td>\n",
       "      <td>1</td>\n",
       "      <td>0</td>\n",
       "      <td>2</td>\n",
       "      <td>5</td>\n",
       "      <td>**(Task B) Savings and Investment**\\n\\n\\n\\n_Wo...</td>\n",
       "      <td>**(Task C) Escape from the Malthusian Trap**\\n...</td>\n",
       "      <td>**(Task E) Savings and Investment**\\n\\n\\n\\n_Su...</td>\n",
       "      <td>Now, using the code cell below, plot United Ki...</td>\n",
       "      <td>**(Task H) Malthusian Economies**\\n\\n\\n\\nBelow...</td>\n",
       "    </tr>\n",
       "    <tr>\n",
       "      <th>4</th>\n",
       "      <td>alex.wei@berkeley.edu</td>\n",
       "      <td>1</td>\n",
       "      <td>0</td>\n",
       "      <td>1</td>\n",
       "      <td>1</td>\n",
       "      <td>0</td>\n",
       "      <td>3</td>\n",
       "      <td>5</td>\n",
       "      <td>**(Task B) Savings and Investment**\\n\\n\\n\\n_Wo...</td>\n",
       "      <td>**(Task C) Escape from the Malthusian Trap**\\n...</td>\n",
       "      <td>**(Task E) Savings and Investment**\\n\\n\\n\\n_Su...</td>\n",
       "      <td>Now, using the code cell below, plot United Ki...</td>\n",
       "      <td>**(Task H) Malthusian Economies**\\n\\n\\n\\nBelow...</td>\n",
       "    </tr>\n",
       "  </tbody>\n",
       "</table>\n",
       "</div>"
      ],
      "text/plain": [
       "                        email  1  2  3  4  5  Total Score  Out of  \\\n",
       "0         aaprea@berkeley.edu  1  1  1  1  0            4       5   \n",
       "1   akcan.balkir@berkeley.edu  1  1  1  1  0            4       5   \n",
       "2   alberthsiung@berkeley.edu  1  0  1  1  0            3       5   \n",
       "3  alekyamallina@berkeley.edu  0  0  1  1  0            2       5   \n",
       "4       alex.wei@berkeley.edu  1  0  1  1  0            3       5   \n",
       "\n",
       "                                     free response 1  \\\n",
       "0  **(Task B) Savings and Investment**\\n\\n\\n\\n_Wo...   \n",
       "1  **(Task B) Savings and Investment**\\n\\n\\n\\n_Wo...   \n",
       "2  **(Task B) Savings and Investment**\\n\\n\\n\\n_Wo...   \n",
       "3  **(Task B) Savings and Investment**\\n\\n\\n\\n_Wo...   \n",
       "4  **(Task B) Savings and Investment**\\n\\n\\n\\n_Wo...   \n",
       "\n",
       "                                     free response 2  \\\n",
       "0  **(Task C) Escape from the Malthusian Trap**\\n...   \n",
       "1  **(Task C) Escape from the Malthusian Trap**\\n...   \n",
       "2  **(Task C) Escape from the Malthusian Trap**\\n...   \n",
       "3  **(Task C) Escape from the Malthusian Trap**\\n...   \n",
       "4  **(Task C) Escape from the Malthusian Trap**\\n...   \n",
       "\n",
       "                                     free response 3  \\\n",
       "0  **(Task E) Savings and Investment**\\n\\n\\n\\n_Su...   \n",
       "1  **(Task E) Savings and Investment**\\n\\n\\n\\n_Su...   \n",
       "2  **(Task E) Savings and Investment**\\n\\n\\n\\n_Su...   \n",
       "3  **(Task E) Savings and Investment**\\n\\n\\n\\n_Su...   \n",
       "4  **(Task E) Savings and Investment**\\n\\n\\n\\n_Su...   \n",
       "\n",
       "                                     free response 4  \\\n",
       "0  Now, using the code cell below, plot United Ki...   \n",
       "1  Now, using the code cell below, plot United Ki...   \n",
       "2  Now, using the code cell below, plot United Ki...   \n",
       "3  Now, using the code cell below, plot United Ki...   \n",
       "4  Now, using the code cell below, plot United Ki...   \n",
       "\n",
       "                                     free response 5  \n",
       "0  **(Task H) Malthusian Economies**\\n\\n\\n\\nBelow...  \n",
       "1  **(Task H) Malthusian Economies**\\n\\n\\n\\nBelow...  \n",
       "2  **(Task H) Malthusian Economies**\\n\\n\\n\\nBelow...  \n",
       "3  **(Task H) Malthusian Economies**\\n\\n\\n\\nBelow...  \n",
       "4  **(Task H) Malthusian Economies**\\n\\n\\n\\nBelow...  "
      ]
     },
     "execution_count": 3,
     "metadata": {},
     "output_type": "execute_result"
    }
   ],
   "source": [
    "t = pd.read_csv('ps5.csv')\n",
    "t.head()"
   ]
  },
  {
   "cell_type": "code",
   "execution_count": 8,
   "metadata": {},
   "outputs": [
    {
     "data": {
      "text/plain": [
       "<Container object of 5 artists>"
      ]
     },
     "execution_count": 8,
     "metadata": {},
     "output_type": "execute_result"
    },
    {
     "data": {
      "image/png": "[encoded data removed]",
      "text/plain": [
       "<matplotlib.figure.Figure at 0x1129622e8>"
      ]
     },
     "metadata": {},
     "output_type": "display_data"
    }
   ],
   "source": [
    "last = 5\n",
    "plt.barh(np.arange(1,last+1), [np.mean(t[str(i)]) for i in np.arange(1,last+1)], align='center', alpha=0.5)"
   ]
  },
  {
   "cell_type": "code",
   "execution_count": 14,
   "metadata": {},
   "outputs": [
    {
     "data": {
      "text/plain": [
       "(array([  2.,   0.,  11.,  69.,  16.,   0.]),\n",
       " array([-0.5,  0.5,  1.5,  2.5,  3.5,  4.5,  5.5]),\n",
       " <a list of 6 Patch objects>)"
      ]
     },
     "execution_count": 14,
     "metadata": {},
     "output_type": "execute_result"
    },
    {
     "data": {
      "image/png": "[encoded data removed]",
      "text/plain": [
       "<matplotlib.figure.Figure at 0x1129eb160>"
      ]
     },
     "metadata": {},
     "output_type": "display_data"
    }
   ],
   "source": [
    "plt.hist(t['Total Score'], bins=np.arange(-.5, last+1.5, 1), alpha=0.5)"
   ]
  },
  {
   "cell_type": "code",
   "execution_count": null,
   "metadata": {
    "collapsed": true
   },
   "outputs": [],
   "source": []
  }
 ],
 "metadata": {
  "anaconda-cloud": {},
  "kernelspec": {
   "display_name": "Python [Root]",
   "language": "python",
   "name": "Python [Root]"
  },
  "language_info": {
   "codemirror_mode": {
    "name": "ipython",
    "version": 3
   },
   "file_extension": ".py",
   "mimetype": "text/x-python",
   "name": "python",
   "nbconvert_exporter": "python",
   "pygments_lexer": "ipython3",
   "version": "3.5.2"
  }
 },
 "nbformat": 4,
 "nbformat_minor": 2
}
